{
  "nbformat": 4,
  "nbformat_minor": 0,
  "metadata": {
    "colab": {
      "provenance": []
    },
    "kernelspec": {
      "name": "python3",
      "display_name": "Python 3"
    },
    "language_info": {
      "name": "python"
    }
  },
  "cells": [
    {
      "cell_type": "code",
      "source": [
        "# import requests\n",
        "# from bs4 import BeautifulSoup\n",
        "\n",
        "# def extract_html_text(url):\n",
        "#     # Step 1: Fetch HTML from URL\n",
        "#     response = requests.get(url)\n",
        "\n",
        "#     if response.status_code == 200:\n",
        "#         # Step 2: Extract text from HTML\n",
        "#         html_content = response.text\n",
        "\n",
        "#         # Step 3: Use BeautifulSoup to parse HTML and extract text\n",
        "#         soup = BeautifulSoup(html_content, 'html.parser')\n",
        "\n",
        "#         # Extracting text from paragraph tags (you can modify this according to your requirement)\n",
        "#         text = '\\n'.join([p.get_text() for p in soup.find_all('p')])\n",
        "\n",
        "#         return text\n",
        "#     else:\n",
        "#         print(\"Failed to fetch URL:\", url)\n",
        "#         return None\n",
        "\n",
        "# # Example usage:\n",
        "# url = \"https://www.healthline.com/nutrition/fasting-benefits\"\n",
        "# text = extract_html_text(url)\n",
        "# if text:\n",
        "#     print(text)\n"
      ],
      "metadata": {
        "id": "NDsTnlB3PAcn"
      },
      "execution_count": 6,
      "outputs": []
    },
    {
      "cell_type": "code",
      "source": [
        "import requests\n",
        "from bs4 import BeautifulSoup\n",
        "import re\n",
        "import nltk\n",
        "from nltk.corpus import stopwords\n",
        "from nltk.tokenize import word_tokenize\n",
        "from nltk.stem import WordNetLemmatizer\n",
        "\n",
        "nltk.download('punkt')\n",
        "nltk.download('stopwords')\n",
        "nltk.download('wordnet')\n",
        "\n",
        "def extract_html_text(url):\n",
        "    # Step 1: Fetch HTML from URL\n",
        "    response = requests.get(url)\n",
        "\n",
        "    if response.status_code == 200:\n",
        "        # Step 2: Extract text from HTML\n",
        "        html_content = response.text\n",
        "\n",
        "        # Step 3: Use BeautifulSoup to parse HTML and extract text\n",
        "        soup = BeautifulSoup(html_content, 'html.parser')\n",
        "\n",
        "        # Extracting text from paragraph tags (you can modify this according to your requirement)\n",
        "        text = '\\n'.join([p.get_text() for p in soup.find_all('p')])\n",
        "\n",
        "        return text\n",
        "    else:\n",
        "        print(\"Failed to fetch URL:\", url)\n",
        "        return None\n",
        "\n",
        "def preprocess_text(text):\n",
        "    # Step 1: Cleaning data from symbols and characters\n",
        "    cleaned_text = re.sub(r'[^\\w\\s]', '', text)\n",
        "\n",
        "    # Step 2: Normalization: make all the data to lower case\n",
        "    cleaned_text = cleaned_text.lower()\n",
        "\n",
        "    # Step 3: Tokenization: split the data to words\n",
        "    tokens = word_tokenize(cleaned_text)\n",
        "\n",
        "    # Step 4: Lemmatization\n",
        "    lemmatizer = WordNetLemmatizer()\n",
        "    lemmatized_tokens = [lemmatizer.lemmatize(token) for token in tokens]\n",
        "\n",
        "    # Step 5: Stop words removal\n",
        "    stop_words = set(stopwords.words('english'))\n",
        "    filtered_tokens = [token for token in lemmatized_tokens if token not in stop_words]\n",
        "\n",
        "    return filtered_tokens\n",
        "\n",
        "# Example usage:\n",
        "url = \"https://en.wikipedia.org/wiki/Python_(programming_language)\"\n",
        "text = extract_html_text(url)\n",
        "if text:\n",
        "    preprocessed_tokens = preprocess_text(text)\n",
        "    unique_words = set(preprocessed_tokens)\n",
        "    print(\"Unique words:\", unique_words)\n"
      ],
      "metadata": {
        "colab": {
          "base_uri": "https://localhost:8080/"
        },
        "id": "7S2o1iFmPA-F",
        "outputId": "92661e3e-098b-4418-de89-e8cf93d0c0f2"
      },
      "execution_count": 7,
      "outputs": [
        {
          "output_type": "stream",
          "name": "stderr",
          "text": [
            "[nltk_data] Downloading package punkt to /root/nltk_data...\n",
            "[nltk_data]   Unzipping tokenizers/punkt.zip.\n",
            "[nltk_data] Downloading package stopwords to /root/nltk_data...\n",
            "[nltk_data]   Unzipping corpora/stopwords.zip.\n",
            "[nltk_data] Downloading package wordnet to /root/nltk_data...\n"
          ]
        },
        {
          "output_type": "stream",
          "name": "stdout",
          "text": [
            "Unique words: {'useful', 'organization', 'reasoning', 'specificationsfor', 'emulated', 'oneand', 'adding', 'consistency', 'controversial', 'tracker', 'potential', 'every', 'b', 'receive', 'element', 'respectively', 'another', 'outdated', 'bar8485a', 'emphasizing', 'facilitate', 'format', 'web', 'loop', 'either', 'c132133', 'games220221', 'terminal', 'freecad', 'sequentially', 'year', 'wsgi', 'responsibility', 'decimal', 'gentoo', 'install', 'nearest', 'reddit', 'laptop', 'use', 'expressions71', 'performance', 'idle', 'amigaos', 'migrated', 'changed82', 'tutorial', 'criticism', 'instance', 'wrote', 'unrestricted', 'motto', 'beginneroriented', 'gtk', '37146162', 'use79', '125', '14', 'indentation', 'positive', 'title', 'prefix', 'development180', '2015', 'pdoc', 'common', 'mentoring', 'mod_wsgi', 'allowing', 'reflected', 'changed', 'compile', 'aphorism', 'added', 'mime', '2018', 'attack', 'recent', 'exponentiation', 'vacation', 'string', 'optimization', 'relational', 'new', 'always', 'transcription', 'portability', 'need', 'floor', 'workload', 'system', 'xp', 'contrast', 'rational', 'hat', 'biopython', 'typeclass', 'borrowed', 'capable', 'emphasizes', 'selfhosted', 'select', 'october', 'max', 'end', 'qt', 'module', 'latest', 'provides', 'separate', 'duck', 'unidirectionally', 'native', 'documenting', 'esri', 'british', 'userprogramming', '13168', 'metasyntactic', 'benchmark', '8171', 'mercurial', 'versionseg', 'maintaining', 'python', 'permitting', 'formatting', 'data213', 'library', 'conducted', 'termed', 'entity', 'july', 'sketch', 'prompt', 'cpythons', 'capella', 'procedural', 'regularly', 'expected', 'wa', 'earlier', '0', 'sdl', 'november', 'postponed', 'manipulation125126', 'summarized', '27x', 'pythonanywhere', 'syntactically', 'hello', 'indent', 'roundup', 'interfacing', 'deprecationwarning', 'active', 'validity', 'constructed', '313', 'softimage', 'python201', 'preview', 'productive', 'division117', 'lead', 'infinity', '2017174', 'fix', 'ab', 'rossums', 'available', 'update', 'spam', 'core', 'subset', 'calculate', 'could', 'due', 'infix', 'etc', 'social', 'modes123', 'enter', 'pygame', 'union', 'concern', 'experimental', 'search', 'differently', 'raspberry', 'backwardcompatible', 'argument', 'natlog', 'matrixmultiplication', 'limited', 'grammar', 'c', 'complex', '312', '2119', '10120', 'spaces91', 'team', 'kera', 'hosted', '3104', 'unintended', '1980s40', 'numbers124', 'small', 'fully', 'explicit', '1991', 'benchmarked', 'intermediate', 'consistently', 'external', 'many', 'conversion107', 'improvement', 'sourcecode', 'fail', 'commented', 'september', 'literal', 'case', '3d', 'objectivec', 'among', 'normal', 'smaller', 'aid', 'feature227', 'musical', 'matching', 'line', 'stack', 'elected', 'backported', 'four', 'although', 'modeler', 'chief', '09034', 'shouldered', 'intelligence', 'possible', 'however', 'allow', 'astropy', 'rule76', 'it5152', 'instagram197', 'networking', 'optional', 'example', 'doubleunderscores', 'process', 'january', 'flask', 'news', 'math', 'visually', 'contain', 'usually', 'mathematics', 'extends', 'others184', 'justintime', 'wikipedia', 'revision', 'multiple', 'suitable', 'later', 'material', 'rebound', 'programmable', 'halfopen', 'poisoning57', 'monty', 'symbol', 'commonly', 'various', 'opencv', 'support46', 'disallowed', 'google192', 'httpservercgihttprequesthandler', 'clause', 'rise', '4', 'os2', 'forbidding', 'generate', 'gimp217', 'combinatorics', 'annotation', 'nature', '4d', 'stable', '3814', 'endoflife', 'result', 'turbogears', 'typing', 'doxygen', '315', 'strongly', 'support', '316', 'typical', 'schedule', 'reflection', '34950', 'unary', 'pypi', 'reviewed', 'ajaxbased', 'c191', 'commitment', 'sagemath', 'change', 'consistent', 'rarely', 'developing', 'integer', 'aspectoriented', 'attached', 'problog207208209210211', 'highly', 'worse', 'probably', 'self', 'martelli', 'continues', 'paradigm', 'particularly', 'size', 'web2py', 'van', 'represents', 'using', 'oldest', 'pythondev', 'block89', 'fixed', 'pyjs', 'offer', 'oftenused', 'expedited', 'without', 'running', 'c121', 'noncritical', 'facebook196', 'arbitrary', 'variant', 'avoiding', 'ruby106', 'instead', 'specialized', 'life', 'pycon', '387778', 'extensive', 'ha', 'libreoffice', 'lesscluttered', 'guido', 'december', 'syntax', 'patch', 'vision', 'counting', 'serve', 'manipulating', 'amazon', 'container', '348', '116', 'architecture', 'council', 'decisionmaker43', 'reporting63', 'mypyc', 'generator', 'class', '33', 'considered', 'processing212', 'see', 'produce', 'enjoyed', 'effect', 'input', 'dalle', 'definite', 'blender', 'pi', 'signifies', 'library3233', 'expedited58', 'automates', 'arcgis219', 'includes', 'representation', '5', 'leverage', 'sense', '310', 'user', 'successfully', 'child', 'name', 'xo', 'match', 'aspect', 'holder', 'issues59', 'pro218', 'mistaking', 'forum', 'lazy', 'fivemember', 'tail', 'culture185', 'determined', 'printer', 'currently', 'supported', 'platform', 'ai', 'premature', 'completely', 'body', 'round25', 'call', 'something', 'time', 'clientside', 'avoid', '198942', 'writing', 'ruby', 'pyqt', 'programming', 'indentation31', 'albeit', 'arithmetic', 'c99', 'pylon', 'way', 'precedence', 'vms138', 'rounding', 'dcgs', 'thus', 'uncluttered', 'github173', 'internal', '2010', 'certainty', '2020update190', '3717', 'rossum', 'developed', 'large', 'part', 'arbitraryprecision', '2023', 'highest', 'gained', 'egg', 'modular', '2008update', 'multiparadigm', 'announced', '2021', 'component', 'information', 'tool', 'ml72', 'value', 'rule', 'window', 'increase', 'ahead', 'enhancement', 'list', 'reflect', 'reference', 'implementation', 'namea', 'software', 'equality', 'wsgiref', 'compliment', 'rough', 'fun', 'suited', 'unsupported', 'claim', 'attempting', 'modern', 'final', 'starting', 'variable', 'memory', 'translation', 'app', 'conventional', 'task', 'mechanism', 'tcl239', 'execution', 'improved', 'compiled', 'main', 'conceived', 'solaris', 'updates54', 'wiskunde', 'extension', 'deliberately', 'product', 'java', 'feature', 'show', 'implemented', 'apache', 'marginal', 'tkinter215216', 'included', 'simple', 'began', 'largely', 'spamclass', 'influenced', 'metaprogramming', 'typed', 'different', 'promotes', 'passed', 'make', 'delayed', 'geospatial', 'best', 'proved', 'primary', 'levels97', 'classic', 'ironpython', 'requiring', 'science', 'semicolon', 'frustration', 'restricted', 'number', 'fedora', 'collector', 'corresponds', 'api', 'ide', 'engine', 'ubuntu', 'system10', 'executed', 'classmethodinstance', 'successor', 'computing203204', 'precision', 'emit', 'parametric', '2d', 'erlang240', 'pythonic', 'package', 'cause', 'machine135', 'highlighting', 'regular', 'originally', 'cover', 'le', 'intends', '8136137', 'define', 'server', 'syntactic', 'moving', 'release', 'comprehensive', 'empirical', 'allocated', 'traditional', 'filtermapandreduce', '3914', 'first', 'top', 'resulting', 'duplicating', 'study', 'rationale', 'special', 'involving', 'operating', 'back', 'aim', 'google', 'development224225', 'silently', 'despite', 'offside', '7', 'matplotlib', 'include', 'c89', 'pytorch', '39', 'generalpurpose', 'structural', 'ilm199', 'council170', 'modify', 'nasa195', 'greatest', 'pep', 'altering', 'typingnamedtuple', 'removed', 'forwardported', 'oneobvious', 'towards', 'firstclass', 'commercial', 'centrum', 'initially', 'script', 'functionality', 'current', 'according', '26x47', 'round05', 'modulo', 'unixlike', '2019', 'fluency', 'readevalprint', 'fraction', 'compilerstranspilers', 'range', 'ctypes', 'test', 'netherlands', 'fails', 'answering', 'fork', '35', 'modified182', 'ides', 'help', 'recommended', 'library127', 'surrounding', 'welldefined', 'embrace', 'access', 'bytecode134', 'netbsd', '37', 'foundation', 'recursive', 'book', 'language183', '391', 'cycledetecting', 'routines187188', 'ending', 'checked', 'computing130', '3107', 'keyword', 'modo', 'covered', 'appear', 'length', 'project4445', 'creating', 'strength', 'tribute', 'condition', 'contains', 'imaging', 'command', 'speedcritical', 'keywords', 'certain', 'structure90', 'virtual', 'dynamic', 'message', 'decisions170', 'structured', 'errors110111', 'including', 'factorial', 'negative118', 'perls', 'dunder', 'scribus', 'compared', 'understand', 'handling', 'numpy', '40', 'rank', 'extensible', 'lab', 'mostly', 'gateway', 'session', 'machine', 'cderived', 'speedup', 'knowledge', 'permanent', 'suite', 'often', 'philosophy73', 'enforced', 'execution56', 'stemmed', 'natural', 'discussion', 'repl', 'bar185186', 'issue', 'utility', 'doe', 'widespread', 'state', 'phase', '53', 'combination', 'even', 'opposed', 'graphviz', 'major', 'discussed', 'tensorflow', 'evaluate', 'reaching', 'pygtk', 'tornado', 'section', 'much', 'application', 'scheme', 'browserbased', 'lisp', 'floatingpoint', 'described', 'operator', 'float', 'computer', 'tiobe', 'maintenance', 'metaprogramming65', 'finite', 'fellow', 'environment', 'specified', 'releasecandidates', 'comprehension', 'houdini', 'text', 'video', 'coding', 'boolean', 'priorities139', 'predefined', 'meaning', 'u', 'doesnt', 'older', 'semantic', 'beta', 'motionbuilder', 'language', 'public', 'culture80', 'hosting', 'relation', 'capablities', 'fact', 'group', 'pseudorandom', 'cost', 'would', 'array', 'amoeba', 'developer', 'choice', 'leading', 'haskell', 'foundation172', 'idea', 'calculus205', 'fewer', 'learning', 'sole', 'outstanding', '3', 'literature', 'openbsd', 'interface', 'took', '27', 'world', 'webcache', 'similarites', 'opposite', 'mathrelated', 'achieve', 'principle', 'embedded', 'wide', 'proposal', 'desktop', 'source', 'neologism', 'consumption', 'algebra', '311', 'written', 'signifying', 'made', 'python226', 'approach', '1', 'interpret', 'mean', 'sqlalchemy', 'denialofservice', 'protocol', '3912', '235', 'release53', 'bracket', 'django', 'rating', 'allowed', 'two', 'http', 'extensively', 'future', 'logic', 'popular', 'lot', 'abaqus', 'tiebreaking', 'kind', 'distributions223', 'also', 'paint', 'game169', 'implement', '2013', 'provided', 'program', 'vitriol', '20', 'catch', 'bestowed', 'dynamically', '2', 'visual', 'benevolent', 'pydoc', 'linux', 'pyramid', 'userdefined', 'interval', 'related', 'come', 'whether', 'conditional', 'philosophy', 'nuke', 'general', '3x', 'tradition', 'collecting', 'scientific', '3913', '905', 'processing', 'calling', 'ten', 'security', 'creator', 'combinatorial', 'development', 'official', '2023update', 'via', 'crosscompile', 'deprecated', 'possibly', 'accurately', 'site', 'called', 'shell', 'swift241', 'go222', '60', 'series', 'mypy', 'unofficial', 'late', 'thirdparty', 'zope', 'strive', 'statement', 'author', 'resolution', 'github', 'parameter', 'bug', 'unlike', 'usual', 'effective', 'denote', 'webserver202', 'texttotext', '2718', 'endoflife64', 'management', 'theory', 'communication', 'foo', 'janus', 'interpreter', 'garbage', 'describe', 'cpython', 'three', 'wstr', 'readable', 'since', 'alpha', 'crossplatform', 'w', '2007', 'negative', 'building', 'term', 'cinema', 'beginning', 'behavior', 'describing', 'anaconda', 'itertools', 'modularity', 'exception', 'semantics', 'evolved', 'cwi', 'red', '2020', 'functools', 'represent', 'one', 'field', 'framework', 'joining', 'significant', 'unnecessary', 'twice', 'preferably', 'informatica', 'meant', 'soft', 'cern194', 'last', '3813', 'bottle', 'inspired', 'type', 'slightly', 'debugger', 'compiler', 'internetfacing', 'instancemethodargument', '25', 'idiom', 'document', 'division', 'significantly', 'pycharm', 'february', 'pascal88', 'per', 'diffusion214', 'maya', 'inkscape', 'ipython', 'playful', 'c11', 'simpler', 'oldstyle', 'better', 'staticallytyped', 'set', 'valid', '2755', 'longterm', 'immediately', 'violate', 'java38', 'reject', 'programmer', 'c11131', 'version', 'ita200', 'frequently', 'expressionso', 'autocompletion', '12', 'addition', '2022update', 'zen', 'provider', 'received', 'create', '333128but', 'difficult', 'portage', 'english', 'setl41', 'yahoo193', 'response', 'found', 'eg', 'presented', 'drop', 'dropbox', 'spotify198', 'provide', 'typingin', 'm1', 'already', 'canopy', 'shop', 'subsequently', 'work', 'style', 'extensions181', 'designed', 'testing', 'method', 'conform', 'june', 'replace', '133333', 'alex', 'unit', 'gpt3', '37x', 'repository', '2022', 'distinguished', 'artificial', 'connecting', 'true', 'code', 'specific', 'expression', 'similar', 'dictator', 'ability', 'domainspecific', 'conference', 'following', 'steering', 'guideline', 'refers', 'intellij', 'like', 'simply', 'insecure', 'data', 'unicode', 'decimals123', 'add', 'advantage', 'time117', 'operation', 'mac', 'curly', 'programming69', 'bind', '38', 'singleboard', 'bb', 'prolog', 'collection', 'retention', 'follows', 'done', 'constraint', 'adopted', 'dictionary', 'pythonistas189', 'notebook', 'scikitlearn', 'methodology', 'texttoimage', 'minimalist', 'approach40', 'mailing', 'design', 'metaobjects66', 'punctuation', 'garbagecollected', 'handled', 'might', 'generators96', 'lie', 'error', 'proposing', 'increased', 'problem', 'manner', 'clever', 'object', 'sphinx', 'cited', 'rich', 'sometimes', 'manipulation', 'released', 'ubiquity', 'optimization112', 'studio', 'earliest', 'decrease', 'equation', 'comedy', 'continuation', 'binding', 'existing', 'dropped', 'rigidly', 'euroscipy', 'implicit', 'documentation', 'annotations4109', 'coroutinelike', 'ready', 'ranked', 'scripting', 'incremented', 'database', 'metaclass', 'selected', 'faster', 'supported140', 'readability', 'working', 'installers', 'installer', 'py', 'untyped', 'monitor', 'numerical', 'generic', 'form', 'community', 'macos', 'allows', 'though', 'capability', 'pyladies', 'unpythonic8687', 'freebsd', 'index', 'read', 'distributed', 'lightwave', 'delimit', 'eggsclass', '10', 'place', 'game', 'twisted', 'distinction', 'extending', 'speed', 'espoused', 'comparison', 'several', 'pretty', 'sugar', 'ship', 'python83and', 'graphical', 'well', 'block', 'bloat7475', 'standard', 'giving', 'scipy', '2000', 'particular', 'apple', 'functional', 'ie', 'occasionally', 'industry', 'compositor', 'meeting', 'mixture', 'pas', 'roundawayfromzero', 'function', 'objectoriented', 'gui', 'moved', 'least', 'scorewriter', 'abc', 'providing', 'remote', 'pypy', 'contract6768', 'nevertheless', 'rewriting', 'animation', 'clarity81', 'gnu', 'us', 'develop', 'high', 'lambda', '1980s', '16', 'assignment', 'as73', 'management70', 'full', 'used', 'notable', '2to3', 'community36373839', 'bab', '30', 'whitespace', 'never', 'officially', 'upon', 'processing206', 'academic', 'integrated', '2008', 'notation', '2003', 'rather', 'future60', 'project', 'mapper', 'compact', 'newstyle108', 'practice', 'may', 'remainder', 'emphasis', 'compiles', 'will9495', 'query', 'nonnumerical', 'plus', 'battery', '415000129', 'image', 'structure', 'iterators', 'highlevel', 'generating', 'easily', 'distribution', 'exploit', 'round', 'c122', 'round15', 'resigned', 'derived', 'referred', 'pattern'}\n"
          ]
        }
      ]
    },
    {
      "cell_type": "code",
      "source": [],
      "metadata": {
        "id": "EXHg9fqxR300"
      },
      "execution_count": 7,
      "outputs": []
    }
  ]
}